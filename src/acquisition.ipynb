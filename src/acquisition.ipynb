{
 "cells": [
  {
   "cell_type": "code",
   "execution_count": 61,
   "metadata": {},
   "outputs": [],
   "source": [
    "import pandas as pd\n",
    "import requests\n",
    "import urllib.parse\n",
    "from io import StringIO"
   ]
  },
  {
   "cell_type": "markdown",
   "metadata": {},
   "source": [
    "Yield Data"
   ]
  },
  {
   "cell_type": "code",
   "execution_count": 62,
   "metadata": {},
   "outputs": [],
   "source": [
    "with open('../keys/api_key.txt', 'r') as file:\n",
    "    usda_nass_key = file.read()"
   ]
  },
  {
   "cell_type": "code",
   "execution_count": 63,
   "metadata": {},
   "outputs": [],
   "source": [
    "states = ['ILLINOIS', 'INDIANA', 'IOWA', 'MINNESOTA', 'MISSOURI', 'NEBRASKA']\n",
    "\n",
    "parameters = {\n",
    "    'key': usda_nass_key,\n",
    "    'source_desc': 'SURVEY',\n",
    "    'sector_desc': 'CROPS',\n",
    "    'group_desc': 'FIELD CROPS',\n",
    "    'commodity_desc': 'CORN',\n",
    "    'statisticcat_desc': 'YIELD',\n",
    "    'agg_level_desc': 'STATE',\n",
    "    'format': 'csv'\n",
    "}"
   ]
  },
  {
   "cell_type": "code",
   "execution_count": 64,
   "metadata": {},
   "outputs": [],
   "source": [
    "encoded_parameters = urllib.parse.urlencode(parameters)\n",
    "base_url = 'https://quickstats.nass.usda.gov/api/api_GET/'\n",
    "url = base_url+'?'+encoded_parameters\n",
    "response = requests.get(url)"
   ]
  },
  {
   "cell_type": "code",
   "execution_count": 65,
   "metadata": {},
   "outputs": [
    {
     "name": "stdout",
     "output_type": "stream",
     "text": [
      "Data saved as yield_raw.csv\n"
     ]
    }
   ],
   "source": [
    "if response.status_code == 200:\n",
    "    data = StringIO(response.text)\n",
    "    yield_raw = pd.read_csv(data)\n",
    "    yield_raw = yield_raw[['year', 'util_practice_desc', 'state_name', 'reference_period_desc', 'Value']]\n",
    "    yield_raw = yield_raw[yield_raw['reference_period_desc'] == 'YEAR']\n",
    "    yield_raw.to_csv('../data/raw/yield_raw.csv', index=False)\n",
    "    print('Data saved as yield_raw.csv')\n",
    "\n",
    "else:\n",
    "    print(f'Request failed with status code {response.status_code}')"
   ]
  },
  {
   "cell_type": "markdown",
   "metadata": {},
   "source": [
    "Price Received Data"
   ]
  },
  {
   "cell_type": "code",
   "execution_count": 66,
   "metadata": {},
   "outputs": [],
   "source": [
    "for i, state in enumerate(states):\n",
    "\n",
    "    parameters = {\n",
    "        'key': usda_nass_key,\n",
    "        'source_desc': 'SURVEY',\n",
    "        'sector_desc': 'CROPS',\n",
    "        'group_desc': 'FIELD CROPS',\n",
    "        'commodity_desc': 'CORN',\n",
    "        'statisticcat_desc': 'PRICE RECEIVED',\n",
    "        'agg_level_desc': 'STATE',\n",
    "        'state_name':state,\n",
    "        'format': 'csv'\n",
    "    }\n",
    "\n",
    "    encoded_parameters = urllib.parse.urlencode(parameters)\n",
    "    base_url = 'https://quickstats.nass.usda.gov/api/api_GET/'\n",
    "    url = base_url+'?'+encoded_parameters\n",
    "    response = requests.get(url)\n",
    "\n",
    "    if response.status_code == 200:\n",
    "\n",
    "        if i == 0:\n",
    "            data = StringIO(response.text)\n",
    "            price_received_raw = pd.read_csv(data)\n",
    "            price_received_raw = price_received_raw[['year', 'state_name', 'reference_period_desc', 'Value']]\n",
    "\n",
    "        else:\n",
    "            data = StringIO(response.text)\n",
    "            temp_df = pd.read_csv(data)\n",
    "            temp_df = temp_df[['year', 'state_name', 'reference_period_desc', 'Value']]\n",
    "            price_received_raw = pd.concat([price_received_raw, temp_df])\n",
    "\n",
    "    else:\n",
    "        print(f'Request failed for {state} with status code {response.status_code}')"
   ]
  },
  {
   "cell_type": "code",
   "execution_count": 67,
   "metadata": {},
   "outputs": [
    {
     "name": "stdout",
     "output_type": "stream",
     "text": [
      "Data saved as price_received_raw.csv\n"
     ]
    }
   ],
   "source": [
    "price_received_raw.to_csv('../data/raw/price_received_raw.csv', index=False)\n",
    "print('Data saved as price_received_raw.csv')"
   ]
  },
  {
   "cell_type": "markdown",
   "metadata": {},
   "source": [
    "Weather Data"
   ]
  },
  {
   "cell_type": "code",
   "execution_count": 68,
   "metadata": {},
   "outputs": [],
   "source": [
    "months = ['january', 'february', 'march', 'april', 'may', 'june', 'july', 'august', 'semptember', 'october', 'november', 'december']\n",
    "state_numbers = [11, 12, 13, 21, 23, 25]\n",
    "count1 = 0\n",
    "count2 = 0\n",
    "\n",
    "for state_number in state_numbers:\n",
    "    for variable in ['tavg', 'tmax', 'tmin', 'pcp', 'pdsi']:\n",
    "        for month_number in range(4, 12):\n",
    "\n",
    "            skiprows = 3 if variable == 'pdsi' else 4\n",
    "            link = f'https://www.ncei.noaa.gov/access/monitoring/climate-at-a-glance/statewide/time-series/{state_number}/{variable}/12/{month_number}/1895-2024.csv?base_prd=true&begbaseyear=1895&endbaseyear=2000'\n",
    "\n",
    "            if count1 == 0:\n",
    "                state_weather_data = pd.read_csv(link, skiprows=skiprows)\n",
    "                state_weather_data.drop(\n",
    "                    columns=state_weather_data.columns[2:],\n",
    "                    inplace=True\n",
    "                )\n",
    "                state_weather_data.rename(\n",
    "                    columns={state_weather_data.columns[1]:f'{months[month_number]}_{variable}'},\n",
    "                    inplace=True\n",
    "                )\n",
    "                state_weather_data['Date'] = state_weather_data['Date'].apply(lambda x: int(str(x)[:4]))\n",
    "                count1 += 1\n",
    "            \n",
    "            else:\n",
    "                temp = pd.read_csv(link, skiprows=skiprows)\n",
    "                temp.drop(\n",
    "                    columns=temp.columns[2:],\n",
    "                    inplace=True\n",
    "                )\n",
    "                temp.rename(\n",
    "                    columns={temp.columns[1]:f'{months[month_number]}_{variable}'},\n",
    "                    inplace=True\n",
    "                )\n",
    "                temp['Date'] = temp['Date'].apply(lambda x: int(str(x)[:4]))\n",
    "                state_weather_data = state_weather_data.merge(\n",
    "                    temp,\n",
    "                    on='Date',\n",
    "                    how='outer'\n",
    "                )\n",
    "                count1 += 1\n",
    "        \n",
    "    state_weather_data['state'] = states[state_numbers.index(state_number)]\n",
    "\n",
    "    if count2 == 0:\n",
    "        weather_data_raw = state_weather_data.copy()\n",
    "        count2 += 1\n",
    "        count1 = 0\n",
    "\n",
    "    else:\n",
    "        weather_data_raw = pd.concat([weather_data_raw, state_weather_data])\n",
    "        count2 += 1\n",
    "        count1 = 0"
   ]
  },
  {
   "cell_type": "code",
   "execution_count": 69,
   "metadata": {},
   "outputs": [
    {
     "name": "stdout",
     "output_type": "stream",
     "text": [
      "Data saved as weather_data_raw.csv\n"
     ]
    }
   ],
   "source": [
    "weather_data_raw.to_csv('../data/raw/weather_data_raw.csv', index=False)\n",
    "print('Data saved as weather_data_raw.csv')"
   ]
  }
 ],
 "metadata": {
  "kernelspec": {
   "display_name": "base",
   "language": "python",
   "name": "python3"
  },
  "language_info": {
   "codemirror_mode": {
    "name": "ipython",
    "version": 3
   },
   "file_extension": ".py",
   "mimetype": "text/x-python",
   "name": "python",
   "nbconvert_exporter": "python",
   "pygments_lexer": "ipython3",
   "version": "3.12.4"
  }
 },
 "nbformat": 4,
 "nbformat_minor": 2
}

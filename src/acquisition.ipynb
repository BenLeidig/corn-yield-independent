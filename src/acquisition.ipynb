{
 "cells": [
  {
   "cell_type": "code",
   "execution_count": 30,
   "metadata": {},
   "outputs": [],
   "source": [
    "import pandas as pd\n",
    "import requests\n",
    "import urllib.parse\n",
    "from io import StringIO"
   ]
  },
  {
   "cell_type": "markdown",
   "metadata": {},
   "source": [
    "Yield Data"
   ]
  },
  {
   "cell_type": "code",
   "execution_count": 31,
   "metadata": {},
   "outputs": [],
   "source": [
    "with open('../keys/api_key.txt', 'r') as file:\n",
    "    api_key = file.read()"
   ]
  },
  {
   "cell_type": "code",
   "execution_count": 32,
   "metadata": {},
   "outputs": [],
   "source": [
    "states = ['ILLINOIS', 'INDIANA', 'IOWA', 'MINNESOTA', 'MISSOURI', 'NEBRASKA']\n",
    "\n",
    "parameters = {\n",
    "    'key': api_key,\n",
    "    'source_desc': 'SURVEY',\n",
    "    'sector_desc': 'CROPS',\n",
    "    'group_desc': 'FIELD CROPS',\n",
    "    'commodity_desc': 'CORN',\n",
    "    'statisticcat_desc': 'YIELD',\n",
    "    'agg_level_desc': 'STATE',\n",
    "    'format': 'csv'\n",
    "}"
   ]
  },
  {
   "cell_type": "code",
   "execution_count": 33,
   "metadata": {},
   "outputs": [],
   "source": [
    "encoded_parameters = urllib.parse.urlencode(parameters)\n",
    "base_url = 'https://quickstats.nass.usda.gov/api/api_GET/'\n",
    "url = base_url+'?'+encoded_parameters\n",
    "response = requests.get(url)"
   ]
  },
  {
   "cell_type": "code",
   "execution_count": 34,
   "metadata": {},
   "outputs": [
    {
     "name": "stdout",
     "output_type": "stream",
     "text": [
      "Data saved as yield_raw.csv\n"
     ]
    }
   ],
   "source": [
    "if response.status_code == 200:\n",
    "    data = StringIO(response.text)\n",
    "    yield_raw = pd.read_csv(data)\n",
    "    yield_raw = yield_raw[['year', 'util_practice_desc', 'state_name', 'reference_period_desc', 'Value']]\n",
    "    yield_raw = yield_raw[yield_raw['reference_period_desc'] == 'YEAR']\n",
    "    yield_raw.to_csv('../data/raw/yield_raw.csv', index=False)\n",
    "    print('Data saved as yield_raw.csv')\n",
    "\n",
    "else:\n",
    "    print(f'Request failed with status code {response.status_code}')"
   ]
  },
  {
   "cell_type": "markdown",
   "metadata": {},
   "source": [
    "Price Received Data"
   ]
  },
  {
   "cell_type": "code",
   "execution_count": 35,
   "metadata": {},
   "outputs": [
    {
     "name": "stdout",
     "output_type": "stream",
     "text": [
      "Data saved as price_received_raw.csv\n"
     ]
    }
   ],
   "source": [
    "for i, state in enumerate(states):\n",
    "\n",
    "    parameters = {\n",
    "        'key': api_key,\n",
    "        'source_desc': 'SURVEY',\n",
    "        'sector_desc': 'CROPS',\n",
    "        'group_desc': 'FIELD CROPS',\n",
    "        'commodity_desc': 'CORN',\n",
    "        'statisticcat_desc': 'PRICE RECEIVED',\n",
    "        'agg_level_desc': 'STATE',\n",
    "        'state_name':state,\n",
    "        'format': 'csv'\n",
    "    }\n",
    "\n",
    "    encoded_parameters = urllib.parse.urlencode(parameters)\n",
    "    base_url = 'https://quickstats.nass.usda.gov/api/api_GET/'\n",
    "    url = base_url+'?'+encoded_parameters\n",
    "    response = requests.get(url)\n",
    "\n",
    "    if response.status_code == 200:\n",
    "\n",
    "        if i == 0:\n",
    "            data = StringIO(response.text)\n",
    "            price_received_raw = pd.read_csv(data)\n",
    "            price_received_raw = price_received_raw[['year', 'state_name', 'reference_period_desc', 'Value']]\n",
    "\n",
    "        else:\n",
    "            data = StringIO(response.text)\n",
    "            temp_df = pd.read_csv(data)\n",
    "            temp_df = temp_df[['year', 'state_name', 'reference_period_desc', 'Value']]\n",
    "            price_received_raw = pd.concat([price_received_raw, temp_df])\n",
    "\n",
    "    else:\n",
    "        print(f'Request failed for {state} with status code {response.status_code}')\n",
    "\n",
    "price_received_raw.to_csv('../data/raw/price_received_raw.csv', index=False)\n",
    "print('Data saved as price_received_raw.csv')"
   ]
  }
 ],
 "metadata": {
  "kernelspec": {
   "display_name": "base",
   "language": "python",
   "name": "python3"
  },
  "language_info": {
   "codemirror_mode": {
    "name": "ipython",
    "version": 3
   },
   "file_extension": ".py",
   "mimetype": "text/x-python",
   "name": "python",
   "nbconvert_exporter": "python",
   "pygments_lexer": "ipython3",
   "version": "3.12.4"
  }
 },
 "nbformat": 4,
 "nbformat_minor": 2
}

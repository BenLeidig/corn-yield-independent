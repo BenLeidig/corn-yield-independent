{
 "cells": [
  {
   "cell_type": "code",
   "execution_count": 1,
   "metadata": {},
   "outputs": [],
   "source": [
    "import pandas as pd\n",
    "import requests\n",
    "import urllib.parse\n",
    "from io import StringIO"
   ]
  },
  {
   "cell_type": "markdown",
   "metadata": {},
   "source": [
    "Yield Data"
   ]
  },
  {
   "cell_type": "code",
   "execution_count": 2,
   "metadata": {},
   "outputs": [],
   "source": [
    "with open('../keys/api_key.txt', 'r') as file:\n",
    "    api_key = file.read()"
   ]
  },
  {
   "cell_type": "code",
   "execution_count": 3,
   "metadata": {},
   "outputs": [],
   "source": [
    "states = ['ILLINOIS', 'INDIANA', 'IOWA', 'MINNESOTA', 'MISSOURI', 'NEBRASKA']\n",
    "\n",
    "parameters = {\n",
    "    'key': api_key,\n",
    "    'source_desc': 'SURVEY',\n",
    "    'sector_desc': 'CROPS',\n",
    "    'group_desc': 'FIELD CROPS',\n",
    "    'commodity_desc': 'CORN',\n",
    "    'statisticcat_desc': 'YIELD',\n",
    "    'agg_level_desc': 'STATE',\n",
    "    'format': 'csv'\n",
    "}"
   ]
  },
  {
   "cell_type": "code",
   "execution_count": 4,
   "metadata": {},
   "outputs": [],
   "source": [
    "encoded_parameters = urllib.parse.urlencode(parameters)\n",
    "base_url = 'https://quickstats.nass.usda.gov/api/api_GET/'\n",
    "url = base_url+'?'+encoded_parameters\n",
    "response = requests.get(url)"
   ]
  },
  {
   "cell_type": "code",
   "execution_count": 5,
   "metadata": {},
   "outputs": [
    {
     "name": "stdout",
     "output_type": "stream",
     "text": [
      "Data saved as yield_raw.csv\n"
     ]
    }
   ],
   "source": [
    "if response.status_code == 200:\n",
    "    data = StringIO(response.text)\n",
    "    yield_raw = pd.read_csv(data)\n",
    "    yield_raw = yield_raw[['year', 'util_practice_desc', 'state_name', 'reference_period_desc', 'Value']]\n",
    "    yield_raw.to_csv('../data/raw/yield_raw.csv')\n",
    "    print('Data saved as yield_raw.csv')\n",
    "\n",
    "else:\n",
    "    print(f'Request failed with status code {response.status_code}')"
   ]
  }
 ],
 "metadata": {
  "kernelspec": {
   "display_name": "base",
   "language": "python",
   "name": "python3"
  },
  "language_info": {
   "codemirror_mode": {
    "name": "ipython",
    "version": 3
   },
   "file_extension": ".py",
   "mimetype": "text/x-python",
   "name": "python",
   "nbconvert_exporter": "python",
   "pygments_lexer": "ipython3",
   "version": "3.12.4"
  }
 },
 "nbformat": 4,
 "nbformat_minor": 2
}

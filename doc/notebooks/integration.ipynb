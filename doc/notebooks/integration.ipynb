{
 "cells": [
  {
   "cell_type": "markdown",
   "metadata": {},
   "source": [
    "# Data Integration\n",
    "### Table of Contents\n",
    "- [Requirements](#requirements)\n",
    "- [Structuring Historical Yield Data](#structuring-historical-yield-data)\n",
    "- [Structuring Historical Price Received Data](#structuring-historical-price-received-data)\n",
    "- [Structuring Historical Weather Data](#structuring-historical-weather-data)\n",
    "- [Integrating Data](#integrating-data)"
   ]
  },
  {
   "cell_type": "markdown",
   "metadata": {},
   "source": [
    "## Requirements"
   ]
  },
  {
   "cell_type": "code",
   "execution_count": 108,
   "metadata": {},
   "outputs": [],
   "source": [
    "import pandas as pd"
   ]
  },
  {
   "cell_type": "code",
   "execution_count": 109,
   "metadata": {},
   "outputs": [],
   "source": [
    "states = ['ILLINOIS', 'INDIANA', 'IOWA', 'MINNESOTA', 'MISSOURI', 'NEBRASKA']\n",
    "\n",
    "yield_raw = pd.read_csv('../../data/raw/yield_raw.csv')\n",
    "price_received_raw = pd.read_csv('../../data/raw/price_received_raw.csv')\n",
    "weather_raw = pd.read_csv('../../data/raw/weather_raw.csv')"
   ]
  },
  {
   "cell_type": "markdown",
   "metadata": {},
   "source": [
    "## Structuring Historical Yield Data"
   ]
  },
  {
   "cell_type": "code",
   "execution_count": 110,
   "metadata": {},
   "outputs": [],
   "source": [
    "yield_raw = yield_raw[(yield_raw['state_name'].isin(states)) & (yield_raw['reference_period_desc'] == 'YEAR')]\\\n",
    "    .drop_duplicates(subset=['year', 'state_name', 'util_practice_desc'])\n",
    "\n",
    "yield_raw = yield_raw.pivot(\n",
    "    index=['year', 'state_name'],\n",
    "    columns='util_practice_desc',\n",
    "    values='Value'\n",
    ").reset_index()"
   ]
  },
  {
   "cell_type": "markdown",
   "metadata": {},
   "source": [
    "## Structuring Historical Price Received Data"
   ]
  },
  {
   "cell_type": "code",
   "execution_count": 111,
   "metadata": {},
   "outputs": [],
   "source": [
    "price_received_raw = price_received_raw.pivot(\n",
    "    index=['year', 'state_name'],\n",
    "    columns='reference_period_desc',\n",
    "    values='Value'\n",
    ").reset_index()"
   ]
  },
  {
   "cell_type": "markdown",
   "metadata": {},
   "source": [
    "## Structuring Historical Weather Data"
   ]
  },
  {
   "cell_type": "code",
   "execution_count": 112,
   "metadata": {},
   "outputs": [],
   "source": [
    "weather_raw = weather_raw.rename(columns={'Date':'year', 'state':'state_name'})"
   ]
  },
  {
   "cell_type": "markdown",
   "metadata": {},
   "source": [
    "## Integrating Data"
   ]
  },
  {
   "cell_type": "code",
   "execution_count": 113,
   "metadata": {},
   "outputs": [],
   "source": [
    "temp = yield_raw.merge(price_received_raw, on=['year', 'state_name'], how='outer')\n",
    "df = temp.merge(\n",
    "    weather_raw,\n",
    "    on=['year', 'state_name'],\n",
    "    how='outer'\n",
    ")\n",
    "for x in df.columns:\n",
    "    df.rename(columns={x:x.lower()}, inplace=True)"
   ]
  }
 ],
 "metadata": {
  "kernelspec": {
   "display_name": "base",
   "language": "python",
   "name": "python3"
  },
  "language_info": {
   "codemirror_mode": {
    "name": "ipython",
    "version": 3
   },
   "file_extension": ".py",
   "mimetype": "text/x-python",
   "name": "python",
   "nbconvert_exporter": "python",
   "pygments_lexer": "ipython3",
   "version": "3.12.4"
  }
 },
 "nbformat": 4,
 "nbformat_minor": 2
}

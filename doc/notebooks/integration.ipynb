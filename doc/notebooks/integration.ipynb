{
 "cells": [
  {
   "cell_type": "markdown",
   "metadata": {},
   "source": [
    "# Data Integration\n",
    "### Table of Contents\n",
    "- [Requirements](#requirements)\n",
    "- [Structuring Historical Yield Data](#structuring-historical-yield-data)\n",
    "- [Structuring Historical Price Received Data](#structuring-historical-price-received-data)\n",
    "- [Structuring Historical Weather Data](#structuring-historical-weather-data)\n",
    "- [Integrating Data](#integrating-data)"
   ]
  },
  {
   "cell_type": "markdown",
   "metadata": {},
   "source": [
    "## Requirements"
   ]
  },
  {
   "cell_type": "code",
   "execution_count": 1,
   "metadata": {},
   "outputs": [],
   "source": [
    "import pandas as pd"
   ]
  },
  {
   "cell_type": "code",
   "execution_count": 2,
   "metadata": {},
   "outputs": [],
   "source": [
    "## saving state names for later use\n",
    "states = ['ILLINOIS', 'INDIANA', 'IOWA', 'MINNESOTA', 'MISSOURI', 'NEBRASKA']\n",
    "months = ['APR', 'AUG', 'DEC', 'FEB', 'JAN', 'JUL', 'JUN', 'MAR', 'MAY', 'NOV', 'OCT', 'SEP']\n",
    "\n",
    "## reading raw data CSVs\n",
    "yield_raw = pd.read_csv('../../data/raw/yield_raw.csv') # file path appears as `data/raw/yield_raw.csv` in `integration.py`\n",
    "price_received_raw = pd.read_csv('../../data/raw/price_received_raw.csv') # file path appears as `data/raw/price_received_raw.csv` in `integration.py`\n",
    "weather_raw = pd.read_csv('../../data/raw/weather_raw.csv') # file path appears as `data/raw/weather_raw.csv` in `integration.py`"
   ]
  },
  {
   "cell_type": "markdown",
   "metadata": {},
   "source": [
    "## Structuring Historical Yield Data"
   ]
  },
  {
   "cell_type": "code",
   "execution_count": 3,
   "metadata": {},
   "outputs": [],
   "source": [
    "## dropping records of unnecessary states and focusing the reference period to only annual records\n",
    "## dropping duplicate records and preserving the first appearence of year/state record\n",
    "yield_raw = yield_raw[(yield_raw['state_name'].isin(states)) & (yield_raw['reference_period_desc'] == 'YEAR')]\\\n",
    "    .drop_duplicates(subset=['year', 'state_name', 'util_practice_desc'])\n",
    "\n",
    "## pivotting the dataframe\n",
    "yield_raw = yield_raw.pivot(\n",
    "    index=['year', 'state_name'],\n",
    "    columns='util_practice_desc',\n",
    "    values='Value'\n",
    ").reset_index()"
   ]
  },
  {
   "cell_type": "code",
   "execution_count": 4,
   "metadata": {},
   "outputs": [
    {
     "data": {
      "text/plain": [
       "state_name\n",
       "ILLINOIS     159\n",
       "INDIANA      159\n",
       "IOWA         159\n",
       "MINNESOTA    159\n",
       "MISSOURI     159\n",
       "NEBRASKA     159\n",
       "Name: count, dtype: int64"
      ]
     },
     "execution_count": 4,
     "metadata": {},
     "output_type": "execute_result"
    }
   ],
   "source": [
    "yield_raw['state_name'].value_counts()"
   ]
  },
  {
   "cell_type": "markdown",
   "metadata": {},
   "source": [
    "## Structuring Historical Price Received Data"
   ]
  },
  {
   "cell_type": "code",
   "execution_count": 5,
   "metadata": {},
   "outputs": [],
   "source": [
    "## pivotting the dataframe\n",
    "price_received_raw = price_received_raw.pivot(\n",
    "    index=['year', 'state_name'],\n",
    "    columns='reference_period_desc',\n",
    "    values='Value'\n",
    ").reset_index()\n",
    "for x in price_received_raw.columns:\n",
    "    price_received_raw.rename(columns={x:x+'_preceived'}, inplace=True) if x in months else x"
   ]
  },
  {
   "cell_type": "markdown",
   "metadata": {},
   "source": [
    "## Structuring Historical Weather Data"
   ]
  },
  {
   "cell_type": "code",
   "execution_count": 7,
   "metadata": {},
   "outputs": [],
   "source": [
    "## renaming `weather_raw` dataframe columns to be consistent with `yield_raw` and `price_received_raw` for ease in merging\n",
    "weather_raw = weather_raw.rename(columns={'Date':'year', 'state':'state_name'})"
   ]
  },
  {
   "cell_type": "markdown",
   "metadata": {},
   "source": [
    "## Integrating Data"
   ]
  },
  {
   "cell_type": "code",
   "execution_count": 9,
   "metadata": {},
   "outputs": [],
   "source": [
    "## merge `yield_raw` and `price_received_raw`\n",
    "temp = yield_raw.merge(price_received_raw, on=['year', 'state_name'], how='outer')\n",
    "\n",
    "## merge the aforementioned merged dataframe with `weather_raw`\n",
    "integrated = temp.merge(\n",
    "    weather_raw,\n",
    "    on=['year', 'state_name'],\n",
    "    how='outer'\n",
    ")\n",
    "\n",
    "## rename the final dataframe's columns to all lowercase\n",
    "for x in integrated.columns:\n",
    "    integrated.rename(columns={x:x.lower()}, inplace=True)\n",
    "\n",
    "# save the dataframe as a local CSV\n",
    "integrated.to_csv('../../data/raw/integrated.csv', index=False) # file path appears as `data/raw/integrated.csv` in `integration.py`"
   ]
  }
 ],
 "metadata": {
  "kernelspec": {
   "display_name": "base",
   "language": "python",
   "name": "python3"
  },
  "language_info": {
   "codemirror_mode": {
    "name": "ipython",
    "version": 3
   },
   "file_extension": ".py",
   "mimetype": "text/x-python",
   "name": "python",
   "nbconvert_exporter": "python",
   "pygments_lexer": "ipython3",
   "version": "3.12.4"
  }
 },
 "nbformat": 4,
 "nbformat_minor": 2
}
